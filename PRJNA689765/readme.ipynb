{
 "cells": [
  {
   "cell_type": "code",
   "execution_count": null,
   "id": "1ffc638a",
   "metadata": {
    "vscode": {
     "languageId": "shellscript"
    }
   },
   "outputs": [],
   "source": [
    "# Create or clear the output file\n",
    "output_file=\"srr_strainID.tsv\"\n",
    "echo -e \"SRR\\tAccession_ID\" > \"$output_file\"  # Add header to the output file\n",
    "\n",
    "# Loop through each SRR number in sra_accession.tsv\n",
    "while read -r srr; do\n",
    "    # Use esearch to find the SRR in the SRA database, fetch the XML, and extract the SRR and SUBMITTER_ID\n",
    "    accession_id=$(esearch -db sra -query srr | efetch -format xml | xtract -pattern EXPERIMENT -element LIBRARY_NAME)\n",
    "    \n",
    "    # Output the SRR and corresponding accession ID to the TSV file\n",
    "    echo -e \"$srr\\t$accession_id\" >> \"$output_file\"\n",
    "done < sra_accession.tsv"
   ]
  },
  {
   "cell_type": "markdown",
   "id": "74353f69",
   "metadata": {},
   "source": [
    "上面用xtract提取strain ID的方法还有很多，总结下就是：\n",
    "-pattern指定父标签\n",
    "-element指定元素或属性(属性attribute要加@)"
   ]
  }
 ],
 "metadata": {
  "language_info": {
   "name": "python"
  }
 },
 "nbformat": 4,
 "nbformat_minor": 5
}
